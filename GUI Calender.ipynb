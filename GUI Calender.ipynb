{
 "cells": [
  {
   "cell_type": "code",
   "execution_count": 2,
   "id": "a6288f64",
   "metadata": {},
   "outputs": [],
   "source": [
    "from tkinter import *\n",
    "import calendar\n"
   ]
  },
  {
   "cell_type": "code",
   "execution_count": null,
   "id": "d85fabe7",
   "metadata": {},
   "outputs": [
    {
     "name": "stdout",
     "output_type": "stream",
     "text": [
      "Enter the Year U want:2023\n"
     ]
    }
   ],
   "source": [
    "n=int(input(\"Enter the Year U want:\"))\n",
    "text=calendar.calendar(n)\n",
    "root=Tk()\n",
    "root.geometry(\"550x600\")\n",
    "root.title(\"CALENDAR\")\n",
    "label1=Label(root,text=\"WELCOME\",bg='dark gray',font=(\"consolas\",28,'bold'))\n",
    "label1.grid(row=1,column=1)\n",
    "root.config(background=\"white\")\n",
    "l1=Label(root,text=text,font=(\"consolas\",10,'bold'))\n",
    "l1.grid(row=2,column=1,padx=10)\n",
    "root.mainloop()"
   ]
  },
  {
   "cell_type": "code",
   "execution_count": null,
   "id": "d32f1ec2",
   "metadata": {},
   "outputs": [],
   "source": []
  }
 ],
 "metadata": {
  "kernelspec": {
   "display_name": "Python 3 (ipykernel)",
   "language": "python",
   "name": "python3"
  },
  "language_info": {
   "codemirror_mode": {
    "name": "ipython",
    "version": 3
   },
   "file_extension": ".py",
   "mimetype": "text/x-python",
   "name": "python",
   "nbconvert_exporter": "python",
   "pygments_lexer": "ipython3",
   "version": "3.10.5"
  }
 },
 "nbformat": 4,
 "nbformat_minor": 5
}
